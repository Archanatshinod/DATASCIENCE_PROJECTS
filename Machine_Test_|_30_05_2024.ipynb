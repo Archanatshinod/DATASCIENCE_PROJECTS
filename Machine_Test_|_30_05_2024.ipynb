{
  "cells": [
    {
      "cell_type": "markdown",
      "metadata": {
        "id": "view-in-github",
        "colab_type": "text"
      },
      "source": [
        "<a href=\"https://colab.research.google.com/github/Archanatshinod/DATASCIENCE_PROJECTS/blob/main/Machine_Test_%7C_30_05_2024.ipynb\" target=\"_parent\"><img src=\"https://colab.research.google.com/assets/colab-badge.svg\" alt=\"Open In Colab\"/></a>"
      ]
    },
    {
      "cell_type": "markdown",
      "metadata": {
        "id": "Hmt5hLSnFuQ-"
      },
      "source": [
        "Here are Python dictionary data and Python list labels:\n",
        "\n",
        "---\n",
        "\n",
        "\n",
        "\n",
        "\n",
        "``` python\n",
        "data = {'animal': ['cat', 'cat', 'snake', 'dog', 'dog', 'cat', 'snake', 'cat', 'dog', 'dog'],\n",
        "        'age': [2.5, 3, 0.5, np.nan, 5, 2, 4.5, np.nan, 7, 3],\n",
        "        'visits': [1, 3, 2, 3, 2, 3, 1, 1, 2, 1],\n",
        "        'priority': ['yes', 'yes', 'no', 'yes', 'no', 'no', 'no', 'yes', 'no', 'no']}\n",
        "\n",
        "labels = ['a', 'b', 'c', 'd', 'e', 'f', 'g', 'h', 'i', 'j']\n",
        "```\n",
        "\n",
        "**1.** **Create a DataFrame from a dictionary:** Create a DataFrame df using the dictionary data and set its index to labels.:"
      ]
    },
    {
      "cell_type": "code",
      "execution_count": 1,
      "metadata": {
        "id": "i-2HoeEiFuQ_",
        "colab": {
          "base_uri": "https://localhost:8080/"
        },
        "outputId": "a85442a6-6d0c-4c0c-aa24-1600d3017d24"
      },
      "outputs": [
        {
          "output_type": "stream",
          "name": "stdout",
          "text": [
            "  animal  age  visits priority\n",
            "a    cat  2.5       1      yes\n",
            "b    cat  3.0       3      yes\n",
            "c  snake  0.5       2       no\n",
            "d    dog  NaN       3      yes\n",
            "e    dog  5.0       2       no\n",
            "f    cat  2.0       3       no\n",
            "g  snake  4.5       1       no\n",
            "h    cat  NaN       1      yes\n",
            "i    dog  7.0       2       no\n",
            "j    dog  3.0       1       no\n"
          ]
        }
      ],
      "source": [
        "import pandas as pd\n",
        "import numpy as np\n",
        "\n",
        "# Your data dictionary and labels\n",
        "data = {'animal': ['cat', 'cat', 'snake', 'dog', 'dog', 'cat', 'snake', 'cat', 'dog', 'dog'],\n",
        "        'age': [2.5, 3, 0.5, np.nan, 5, 2, 4.5, np.nan, 7, 3],\n",
        "        'visits': [1, 3, 2, 3, 2, 3, 1, 1, 2, 1],\n",
        "        'priority': ['yes', 'yes', 'no', 'yes', 'no', 'no', 'no', 'yes', 'no', 'no']}\n",
        "\n",
        "labels = ['a', 'b', 'c', 'd', 'e', 'f', 'g', 'h', 'i', 'j']\n",
        "\n",
        "# Create the DataFrame\n",
        "df = pd.DataFrame(data, index=labels)\n",
        "\n",
        "# Display the DataFrame\n",
        "print(df)"
      ]
    },
    {
      "cell_type": "markdown",
      "metadata": {
        "id": "IpKnDID_FuRB"
      },
      "source": [
        "**2.** **Display DataFrame information:** Show a summary of the basic information about the DataFrame df and its data using a single method."
      ]
    },
    {
      "cell_type": "code",
      "execution_count": 2,
      "metadata": {
        "id": "gcovPS3rFuRC",
        "colab": {
          "base_uri": "https://localhost:8080/"
        },
        "outputId": "ac637d65-3565-4ec3-df17-98c08cfb60d9"
      },
      "outputs": [
        {
          "output_type": "stream",
          "name": "stdout",
          "text": [
            "<class 'pandas.core.frame.DataFrame'>\n",
            "Index: 10 entries, a to j\n",
            "Data columns (total 4 columns):\n",
            " #   Column    Non-Null Count  Dtype  \n",
            "---  ------    --------------  -----  \n",
            " 0   animal    10 non-null     object \n",
            " 1   age       8 non-null      float64\n",
            " 2   visits    10 non-null     int64  \n",
            " 3   priority  10 non-null     object \n",
            "dtypes: float64(1), int64(1), object(2)\n",
            "memory usage: 400.0+ bytes\n"
          ]
        }
      ],
      "source": [
        "# Display DataFrame information\n",
        "df.info()\n"
      ]
    },
    {
      "cell_type": "markdown",
      "metadata": {
        "id": "ab1u4T55FuRC"
      },
      "source": [
        "**3.** **Return the first few rows:** Retrieve the first 3 rows of the DataFrame df."
      ]
    },
    {
      "cell_type": "code",
      "execution_count": null,
      "metadata": {
        "id": "uIcy04PCFuRD"
      },
      "outputs": [],
      "source": [
        "# Retrieve the first 3 rows of the DataFrame\n",
        "df.head(3)"
      ]
    },
    {
      "cell_type": "markdown",
      "metadata": {
        "id": "Insh_QRrFuRD"
      },
      "source": [
        "**4.** **Select specific columns:** Display only the 'animal' and 'age' columns from the DataFrame df."
      ]
    },
    {
      "cell_type": "code",
      "execution_count": null,
      "metadata": {
        "id": "pJ-PHmJ5FuRE"
      },
      "outputs": [],
      "source": [
        "# Display the 'animal' and 'age' columns\n",
        "df[['animal', 'age']]\n"
      ]
    },
    {
      "cell_type": "markdown",
      "metadata": {
        "id": "xRORUgdwFuRE"
      },
      "source": [
        "**5.** **Select specific rows and columns:** Show the data for rows [3, 4, 8] and columns ['animal', 'age'] in the DataFrame df."
      ]
    },
    {
      "cell_type": "code",
      "execution_count": null,
      "metadata": {
        "id": "8Yx-a5yyFuRF"
      },
      "outputs": [],
      "source": [
        "# Select specific rows and columns\n",
        "df.loc[['d', 'e', 'i'], ['animal', 'age']]\n"
      ]
    },
    {
      "cell_type": "markdown",
      "metadata": {
        "id": "EwxrthzwFuRF"
      },
      "source": [
        "**6.** **Filter rows based on a condition:** Select the rows where the 'visits' column has values greater than 2."
      ]
    },
    {
      "cell_type": "code",
      "execution_count": null,
      "metadata": {
        "id": "J8tm9hpcFuRF"
      },
      "outputs": [],
      "source": [
        "# Filter rows where 'visits' > 2\n",
        "df[df['visits'] > 2]\n"
      ]
    },
    {
      "cell_type": "markdown",
      "metadata": {
        "id": "2XhJNfmKFuRF"
      },
      "source": [
        "**7.** **Select rows with missing values:** Identify and select the rows where the 'age' column has missing (NaN) values."
      ]
    },
    {
      "cell_type": "code",
      "execution_count": null,
      "metadata": {
        "id": "0D0NW1Y-FuRG"
      },
      "outputs": [],
      "source": [
        "# Select rows where 'age' has missing values\n",
        "df[df['age'].isna()]\n"
      ]
    },
    {
      "cell_type": "markdown",
      "metadata": {
        "id": "mjT1t30pFuRG"
      },
      "source": [
        "**8.** **Filter rows based on multiple conditions:** Select the rows where the 'animal' is 'cat' and the 'age' is less than 3."
      ]
    },
    {
      "cell_type": "code",
      "execution_count": null,
      "metadata": {
        "id": "llayTxaVFuRG"
      },
      "outputs": [],
      "source": [
        "# Select rows where 'animal' is 'cat' and 'age' is less than 3\n",
        "df[(df['animal'] == 'cat') & (df['age'] < 3)]\n"
      ]
    },
    {
      "cell_type": "markdown",
      "metadata": {
        "id": "TpFIIG6YFuRG"
      },
      "source": [
        "**9.** **Filter rows within a range:** Select the rows where the 'age' is between 2 and 4, inclusive."
      ]
    },
    {
      "cell_type": "code",
      "execution_count": null,
      "metadata": {
        "id": "DSg6DgMSFuRH"
      },
      "outputs": [],
      "source": [
        "# Select rows where 'age' is between 2 and 4, inclusive\n",
        "df[df['age'].between(2, 4)]\n"
      ]
    },
    {
      "cell_type": "markdown",
      "metadata": {
        "id": "hpRQ38reFuRH"
      },
      "source": [
        "**10.** **Modify a specific cell:** Change the 'age' value in row 'f' to 1.5."
      ]
    },
    {
      "cell_type": "code",
      "execution_count": null,
      "metadata": {
        "id": "_YMVhJ8vFuRH"
      },
      "outputs": [],
      "source": [
        "# Modify the 'age' value in row 'f' to 1.5\n",
        "df.loc['f', 'age'] = 1.5\n"
      ]
    },
    {
      "cell_type": "markdown",
      "metadata": {
        "id": "hBWRarrFFuRH"
      },
      "source": [
        "**11.** **Calculate the sum of a column:** Compute the total number of visits in the DataFrame df."
      ]
    },
    {
      "cell_type": "code",
      "execution_count": null,
      "metadata": {
        "id": "f68JlP6vFuRH"
      },
      "outputs": [],
      "source": [
        "# Calculate the total number of visits\n",
        "total_visits = df['visits'].sum()\n"
      ]
    },
    {
      "cell_type": "markdown",
      "metadata": {
        "id": "pS3mMupIFuRH"
      },
      "source": [
        "**12.** **Calculate the mean of a column by group:** Find the mean age for each type of animal in the DataFrame df.\n",
        "\n"
      ]
    },
    {
      "cell_type": "code",
      "execution_count": null,
      "metadata": {
        "id": "DssyUV8LFuRI"
      },
      "outputs": [],
      "source": [
        "# Calculate the mean age for each type of animal\n",
        "mean_age_by_animal = df.groupby('animal')['age'].mean()\n"
      ]
    },
    {
      "cell_type": "markdown",
      "metadata": {
        "id": "GMR-Ace2FuRI"
      },
      "source": [
        "**13.** **Append and delete a row:** Add a new row 'k' with chosen values to df, then remove this row to restore the original DataFrame."
      ]
    },
    {
      "cell_type": "code",
      "execution_count": null,
      "metadata": {
        "id": "P8Qfy0a8FuRI"
      },
      "outputs": [],
      "source": [
        "# Append a new row 'k'\n",
        "df.loc['k'] = ['rabbit', 3.5, 2, 'yes']\n",
        "# Remove the row 'k'\n",
        "df = df.drop('k')\n"
      ]
    },
    {
      "cell_type": "markdown",
      "metadata": {
        "id": "GjMKZ4POFuRI"
      },
      "source": [
        "**14.** **Count occurrences of unique values:** Count the number of occurrences for each type of animal in the DataFrame df.\n",
        "\n"
      ]
    },
    {
      "cell_type": "code",
      "execution_count": null,
      "metadata": {
        "id": "1ydrxeyNFuRI"
      },
      "outputs": [],
      "source": [
        "# Count the number of occurrences for each type of animal\n",
        "animal_counts = df['animal'].value_counts()\n",
        "\n"
      ]
    },
    {
      "cell_type": "markdown",
      "metadata": {
        "id": "MNBGtMjoFuRI"
      },
      "source": [
        "**15.** **Sort the DataFrame:** Sort the DataFrame df first by 'age' in descending order, then by 'visits' in ascending order"
      ]
    },
    {
      "cell_type": "code",
      "execution_count": null,
      "metadata": {
        "id": "76tGccYfFuRJ"
      },
      "outputs": [],
      "source": [
        "# Sort the DataFrame by 'age' (descending) and then by 'visits' (ascending)\n",
        "df_sorted = df.sort_values(by=['age', 'visits'], ascending=[False, True])\n"
      ]
    },
    {
      "cell_type": "markdown",
      "metadata": {
        "id": "5VOktn8PFuRJ"
      },
      "source": [
        "**16.** **Replace column values:** Replace the 'priority' column values 'yes' and 'no' with boolean values: 'yes' should become True and 'no' should become False."
      ]
    },
    {
      "cell_type": "code",
      "execution_count": null,
      "metadata": {
        "id": "HUrNuHMfFuRJ"
      },
      "outputs": [],
      "source": [
        "# Replace 'yes' with True and 'no' with False in the 'priority' column\n",
        "df['priority'] = df['priority'].replace({'yes': True, 'no': False})\n"
      ]
    },
    {
      "cell_type": "markdown",
      "metadata": {
        "id": "T9MVDUniFuRJ"
      },
      "source": [
        "**17.** **Change specific entries:** In the 'animal' column, change all entries with the value 'snake' to 'python'.\n",
        "\n"
      ]
    },
    {
      "cell_type": "code",
      "execution_count": null,
      "metadata": {
        "id": "pWNj4Vl4FuRJ"
      },
      "outputs": [],
      "source": [
        "# Replace 'snake' with 'python' in the 'animal' column\n",
        "df['animal'] = df['animal'].replace('snake', 'python')\n"
      ]
    },
    {
      "cell_type": "markdown",
      "metadata": {
        "id": "30f078i8PTEU"
      },
      "source": [
        "**18.** **Load a dataset:** Load the 'ny-flights' dataset into Python.\n",
        "\n",
        "https://www.kaggle.com/datasets/yasserh/titanic-dataset"
      ]
    },
    {
      "cell_type": "code",
      "execution_count": null,
      "metadata": {
        "id": "2ZGQTvMqPTEU"
      },
      "outputs": [],
      "source": []
    },
    {
      "cell_type": "markdown",
      "metadata": {
        "id": "5ZzcL7HSPTEU"
      },
      "source": [
        "\n",
        "**19.** Find the correlation between passenger age and fare in titanic dataset?"
      ]
    },
    {
      "cell_type": "code",
      "execution_count": null,
      "metadata": {
        "id": "j-l9kua-PTEV"
      },
      "outputs": [],
      "source": []
    },
    {
      "cell_type": "markdown",
      "metadata": {
        "id": "6tpWsSkFPTEV"
      },
      "source": [
        "**20.** Create a plot showing the relationship between 'age' and 'fare'."
      ]
    },
    {
      "cell_type": "code",
      "execution_count": null,
      "metadata": {
        "id": "ZHV1eQarPTEk"
      },
      "outputs": [],
      "source": []
    }
  ],
  "metadata": {
    "colab": {
      "provenance": [],
      "include_colab_link": true
    },
    "kernelspec": {
      "display_name": "Python 3",
      "language": "python",
      "name": "python3"
    },
    "language_info": {
      "codemirror_mode": {
        "name": "ipython",
        "version": 3
      },
      "file_extension": ".py",
      "mimetype": "text/x-python",
      "name": "python",
      "nbconvert_exporter": "python",
      "pygments_lexer": "ipython3",
      "version": "3.8.8"
    }
  },
  "nbformat": 4,
  "nbformat_minor": 0
}